{
 "cells": [
  {
   "cell_type": "code",
   "execution_count": 1,
   "metadata": {},
   "outputs": [],
   "source": [
    "columns = [\"lyrics\", \"genre\", \"year\"]"
   ]
  },
  {
   "cell_type": "code",
   "execution_count": 2,
   "metadata": {},
   "outputs": [],
   "source": [
    "genres = ['pop', 'country', 'blues', 'jazz', 'reggae', 'rock', 'hiphop', \"indie\", \"heavy\", \"dance\"]"
   ]
  },
  {
   "cell_type": "markdown",
   "metadata": {},
   "source": [
    "Assessment details: [link](https://docs.google.com/document/d/1I2-7dYkorOMwvYANKzWLxpHm3THEPi7OIsNz9wF48to/edit?fbclid=IwAR135YKjSzod3Gs9Y-E8RH3GL2zUdc6tiPhfnI3u4WLndp6CTQpE0Rns2eE)"
   ]
  },
  {
   "cell_type": "markdown",
   "metadata": {},
   "source": [
    "### Load datasets"
   ]
  },
  {
   "cell_type": "markdown",
   "metadata": {},
   "source": [
    "Data from [huggingface](https://huggingface.co/datasets/juliensimon/autonlp-data-song-lyrics)"
   ]
  },
  {
   "cell_type": "code",
   "execution_count": 3,
   "metadata": {},
   "outputs": [],
   "source": [
    "# import os\n",
    "\n",
    "# os.environ[\"MODIN_ENGINE\"] = \"dask\"  # Modin will use Dask"
   ]
  },
  {
   "cell_type": "code",
   "execution_count": 4,
   "metadata": {},
   "outputs": [
    {
     "name": "stderr",
     "output_type": "stream",
     "text": [
      "2022-04-06 17:01:22,606\tINFO services.py:1412 -- View the Ray dashboard at \u001b[1m\u001b[32mhttp://127.0.0.1:8266\u001b[39m\u001b[22m\n"
     ]
    },
    {
     "data": {
      "text/plain": [
       "{'node_ip_address': '127.0.0.1',\n",
       " 'raylet_ip_address': '127.0.0.1',\n",
       " 'redis_address': None,\n",
       " 'object_store_address': 'tcp://127.0.0.1:50116',\n",
       " 'raylet_socket_name': 'tcp://127.0.0.1:39376',\n",
       " 'webui_url': '127.0.0.1:8266',\n",
       " 'session_dir': 'C:\\\\Users\\\\obada\\\\AppData\\\\Local\\\\Temp\\\\ray\\\\session_2022-04-06_17-01-19_810846_18448',\n",
       " 'metrics_export_port': 40614,\n",
       " 'gcs_address': '127.0.0.1:58378',\n",
       " 'address': '127.0.0.1:58378',\n",
       " 'node_id': '473bb0413a462409430e3a0b017ba52c7ff80814a7bcc90e3d2939fc'}"
      ]
     },
     "execution_count": 4,
     "metadata": {},
     "output_type": "execute_result"
    }
   ],
   "source": [
    "import ray\n",
    "ray.init()"
   ]
  },
  {
   "cell_type": "code",
   "execution_count": 5,
   "metadata": {
    "tags": []
   },
   "outputs": [
    {
     "name": "stderr",
     "output_type": "stream",
     "text": [
      "Using custom data configuration juliensimon--autonlp-data-song-lyrics-71ae9d8c125e6e5a\n",
      "Reusing dataset csv (C:\\Users\\obada\\.cache\\huggingface\\datasets\\csv\\juliensimon--autonlp-data-song-lyrics-71ae9d8c125e6e5a\\0.0.0\\433e0ccc46f9880962cc2b12065189766fbb2bee57a221866138fb9203c83519)\n"
     ]
    },
    {
     "data": {
      "application/vnd.jupyter.widget-view+json": {
       "model_id": "b1a8a221aae843b684a110514d2b2223",
       "version_major": 2,
       "version_minor": 0
      },
      "text/plain": [
       "  0%|          | 0/1 [00:00<?, ?it/s]"
      ]
     },
     "metadata": {},
     "output_type": "display_data"
    },
    {
     "name": "stderr",
     "output_type": "stream",
     "text": [
      "UserWarning: Distributing <class 'dict'> object. This may take some time.\n"
     ]
    }
   ],
   "source": [
    "import datasets\n",
    "import modin.pandas as pd\n",
    "import numpy as np\n",
    "\n",
    "data_autonlp = datasets.load_dataset(\"juliensimon/autonlp-data-song-lyrics\")\n",
    "data_autonlp = pd.DataFrame({\"lyrics\": data_autonlp[\"train\"][\"Lyric\"], \"genre\": data_autonlp[\"train\"][\"Genre0\"]})"
   ]
  },
  {
   "cell_type": "code",
   "execution_count": 6,
   "metadata": {},
   "outputs": [],
   "source": [
    "data_autonlp.insert(2, \"year\", np.nan)"
   ]
  },
  {
   "cell_type": "code",
   "execution_count": 7,
   "metadata": {},
   "outputs": [],
   "source": [
    "data_autonlp.genre = data_autonlp.genre.map({\"Hip Hop\": \"hiphop\", \"Pop\": \"pop\", \"Indie\": \"indie\",\n",
    "                       \"Rock\": \"rock\", \n",
    "                       \"Heavy Metal\": \"heavy\",\n",
    "                       \"Dance\": \"dance\"})"
   ]
  },
  {
   "cell_type": "code",
   "execution_count": 8,
   "metadata": {},
   "outputs": [
    {
     "data": {
      "text/html": [
       "<div>\n",
       "<style scoped>\n",
       "    .dataframe tbody tr th:only-of-type {\n",
       "        vertical-align: middle;\n",
       "    }\n",
       "\n",
       "    .dataframe tbody tr th {\n",
       "        vertical-align: top;\n",
       "    }\n",
       "\n",
       "    .dataframe thead th {\n",
       "        text-align: right;\n",
       "    }\n",
       "</style>\n",
       "<table border=\"1\" class=\"dataframe\">\n",
       "  <thead>\n",
       "    <tr style=\"text-align: right;\">\n",
       "      <th></th>\n",
       "      <th>lyrics</th>\n",
       "      <th>genre</th>\n",
       "      <th>year</th>\n",
       "    </tr>\n",
       "  </thead>\n",
       "  <tbody>\n",
       "    <tr>\n",
       "      <th>0</th>\n",
       "      <td>[Intro: Method Man w/ sample] + (Sunny valenti...</td>\n",
       "      <td>hiphop</td>\n",
       "      <td>NaN</td>\n",
       "    </tr>\n",
       "    <tr>\n",
       "      <th>1</th>\n",
       "      <td>[Sean Paul:]. Aye. It's Sean Paul 'long side. ...</td>\n",
       "      <td>pop</td>\n",
       "      <td>NaN</td>\n",
       "    </tr>\n",
       "    <tr>\n",
       "      <th>2</th>\n",
       "      <td>Beauty finds refuge in herself. Lovers wrapped...</td>\n",
       "      <td>indie</td>\n",
       "      <td>NaN</td>\n",
       "    </tr>\n",
       "    <tr>\n",
       "      <th>3</th>\n",
       "      <td>You've changed your tune. many times since we'...</td>\n",
       "      <td>rock</td>\n",
       "      <td>NaN</td>\n",
       "    </tr>\n",
       "    <tr>\n",
       "      <th>4</th>\n",
       "      <td>I got all these J's rolled up. And got all the...</td>\n",
       "      <td>hiphop</td>\n",
       "      <td>NaN</td>\n",
       "    </tr>\n",
       "  </tbody>\n",
       "</table>\n",
       "</div>"
      ],
      "text/plain": [
       "                                              lyrics   genre  year\n",
       "0  [Intro: Method Man w/ sample] + (Sunny valenti...  hiphop   NaN\n",
       "1  [Sean Paul:]. Aye. It's Sean Paul 'long side. ...     pop   NaN\n",
       "2  Beauty finds refuge in herself. Lovers wrapped...   indie   NaN\n",
       "3  You've changed your tune. many times since we'...    rock   NaN\n",
       "4  I got all these J's rolled up. And got all the...  hiphop   NaN"
      ]
     },
     "execution_count": 8,
     "metadata": {},
     "output_type": "execute_result"
    }
   ],
   "source": [
    "data_autonlp.head()"
   ]
  },
  {
   "cell_type": "code",
   "execution_count": 9,
   "metadata": {},
   "outputs": [
    {
     "name": "stdout",
     "output_type": "stream",
     "text": [
      "(48493, 3)\n"
     ]
    }
   ],
   "source": [
    "print(data_autonlp.shape)"
   ]
  },
  {
   "cell_type": "markdown",
   "metadata": {},
   "source": [
    "Data from [Mendeley](https://data.mendeley.com/datasets/3t9vbwxgr5/2) "
   ]
  },
  {
   "cell_type": "code",
   "execution_count": 10,
   "metadata": {},
   "outputs": [
    {
     "data": {
      "text/html": [
       "<div>\n",
       "<style scoped>\n",
       "    .dataframe tbody tr th:only-of-type {\n",
       "        vertical-align: middle;\n",
       "    }\n",
       "\n",
       "    .dataframe tbody tr th {\n",
       "        vertical-align: top;\n",
       "    }\n",
       "\n",
       "    .dataframe thead th {\n",
       "        text-align: right;\n",
       "    }\n",
       "</style>\n",
       "<table border=\"1\" class=\"dataframe\">\n",
       "  <thead>\n",
       "    <tr style=\"text-align: right;\">\n",
       "      <th></th>\n",
       "      <th>lyrics</th>\n",
       "      <th>genre</th>\n",
       "      <th>year</th>\n",
       "      <th>violence</th>\n",
       "      <th>shake the audience</th>\n",
       "      <th>sadness</th>\n",
       "      <th>feelings</th>\n",
       "      <th>danceability</th>\n",
       "    </tr>\n",
       "  </thead>\n",
       "  <tbody>\n",
       "    <tr>\n",
       "      <th>0</th>\n",
       "      <td>hold time feel break feel untrue convince spea...</td>\n",
       "      <td>pop</td>\n",
       "      <td>1950</td>\n",
       "      <td>0.063746</td>\n",
       "      <td>0.000598</td>\n",
       "      <td>0.380299</td>\n",
       "      <td>0.117175</td>\n",
       "      <td>0.357739</td>\n",
       "    </tr>\n",
       "    <tr>\n",
       "      <th>1</th>\n",
       "      <td>believe drop rain fall grow believe darkest ni...</td>\n",
       "      <td>pop</td>\n",
       "      <td>1950</td>\n",
       "      <td>0.096777</td>\n",
       "      <td>0.001284</td>\n",
       "      <td>0.001284</td>\n",
       "      <td>0.001284</td>\n",
       "      <td>0.331745</td>\n",
       "    </tr>\n",
       "    <tr>\n",
       "      <th>2</th>\n",
       "      <td>sweetheart send letter goodbye secret feel bet...</td>\n",
       "      <td>pop</td>\n",
       "      <td>1950</td>\n",
       "      <td>0.002770</td>\n",
       "      <td>0.002770</td>\n",
       "      <td>0.002770</td>\n",
       "      <td>0.225422</td>\n",
       "      <td>0.456298</td>\n",
       "    </tr>\n",
       "    <tr>\n",
       "      <th>3</th>\n",
       "      <td>kiss lips want stroll charm mambo chacha merin...</td>\n",
       "      <td>pop</td>\n",
       "      <td>1950</td>\n",
       "      <td>0.001548</td>\n",
       "      <td>0.021500</td>\n",
       "      <td>0.225889</td>\n",
       "      <td>0.001548</td>\n",
       "      <td>0.686992</td>\n",
       "    </tr>\n",
       "    <tr>\n",
       "      <th>4</th>\n",
       "      <td>till darling till matter know till dream live ...</td>\n",
       "      <td>pop</td>\n",
       "      <td>1950</td>\n",
       "      <td>0.001350</td>\n",
       "      <td>0.001350</td>\n",
       "      <td>0.068800</td>\n",
       "      <td>0.001350</td>\n",
       "      <td>0.291671</td>\n",
       "    </tr>\n",
       "  </tbody>\n",
       "</table>\n",
       "</div>"
      ],
      "text/plain": [
       "                                              lyrics genre  year  violence  \\\n",
       "0  hold time feel break feel untrue convince spea...   pop  1950  0.063746   \n",
       "1  believe drop rain fall grow believe darkest ni...   pop  1950  0.096777   \n",
       "2  sweetheart send letter goodbye secret feel bet...   pop  1950  0.002770   \n",
       "3  kiss lips want stroll charm mambo chacha merin...   pop  1950  0.001548   \n",
       "4  till darling till matter know till dream live ...   pop  1950  0.001350   \n",
       "\n",
       "   shake the audience   sadness  feelings  danceability  \n",
       "0            0.000598  0.380299  0.117175      0.357739  \n",
       "1            0.001284  0.001284  0.001284      0.331745  \n",
       "2            0.002770  0.002770  0.225422      0.456298  \n",
       "3            0.021500  0.225889  0.001548      0.686992  \n",
       "4            0.001350  0.068800  0.001350      0.291671  "
      ]
     },
     "execution_count": 10,
     "metadata": {},
     "output_type": "execute_result"
    }
   ],
   "source": [
    "# import pandas as pd\n",
    "# from pandasgui import show\n",
    "\n",
    "data_history = pd.read_csv(\"Music Dataset_ Lyrics and Metadata from 1950 to 2019/tcc_ceds_music.csv\")\n",
    "data_history = data_history[[\"lyrics\", \"genre\", \"release_date\", \"violence\", \"shake the audience\", \"sadness\", \"feelings\", \"danceability\"]]\n",
    "data_history.rename(columns={\"release_date\": \"year\"}, inplace=True, errors=\"raise\")\n",
    "data_history.head()\n",
    "# show(data_history)"
   ]
  },
  {
   "cell_type": "code",
   "execution_count": 11,
   "metadata": {},
   "outputs": [],
   "source": [
    "data_history.genre = data_history.genre.map({\"pop\": \"pop\",\n",
    "                                             'country': \"country\", \n",
    "                                             'blues': \"blues\", \n",
    "                                             'jazz': \"jazz\", \n",
    "                                             'reggae': \"reggae\", \n",
    "                                             'rock': \"rock\", \n",
    "                                             'hip hop': \"hiphop\"})"
   ]
  },
  {
   "cell_type": "code",
   "execution_count": 12,
   "metadata": {},
   "outputs": [
    {
     "data": {
      "text/plain": [
       "(28372, 8)"
      ]
     },
     "execution_count": 12,
     "metadata": {},
     "output_type": "execute_result"
    }
   ],
   "source": [
    "data_history.shape"
   ]
  },
  {
   "cell_type": "markdown",
   "metadata": {},
   "source": [
    "Data from Vagalume, sourced from [Kaggle](https://www.kaggle.com/datasets/neisse/scrapped-lyrics-from-6-genres) - Too much to use"
   ]
  },
  {
   "cell_type": "code",
   "execution_count": 13,
   "metadata": {},
   "outputs": [],
   "source": [
    "# data_vagalume = pd.read_csv(\"lyrics-data.csv\")\n",
    "# data_vagalume = data_vagalume[data_vagalume.language == \"en\"]"
   ]
  },
  {
   "cell_type": "code",
   "execution_count": 14,
   "metadata": {},
   "outputs": [],
   "source": [
    "# data_vagalume = data_vagalume[[\"Lyric\"]]"
   ]
  },
  {
   "cell_type": "code",
   "execution_count": 15,
   "metadata": {},
   "outputs": [],
   "source": [
    "# data_vagalume.rename(columns={\"Lyric\": \"lyrics\"}, inplace=True)\n",
    "# data_vagalume.insert(1, \"genre\", np.nan)\n",
    "# data_vagalume.insert(2, \"year\", np.nan)"
   ]
  },
  {
   "cell_type": "code",
   "execution_count": 16,
   "metadata": {},
   "outputs": [],
   "source": [
    "# data_vagalume"
   ]
  },
  {
   "cell_type": "markdown",
   "metadata": {},
   "source": [
    "### Compile"
   ]
  },
  {
   "cell_type": "code",
   "execution_count": 17,
   "metadata": {},
   "outputs": [],
   "source": [
    "data_all = pd.concat([data_autonlp, data_history])"
   ]
  },
  {
   "cell_type": "code",
   "execution_count": 18,
   "metadata": {},
   "outputs": [
    {
     "data": {
      "text/plain": [
       "lyrics                    0\n",
       "genre                     0\n",
       "year                  48493\n",
       "violence              48493\n",
       "shake the audience    48493\n",
       "sadness               48493\n",
       "feelings              48493\n",
       "danceability          48493\n",
       "dtype: int64"
      ]
     },
     "execution_count": 18,
     "metadata": {},
     "output_type": "execute_result"
    }
   ],
   "source": [
    "# Check for NAs in lyrics\n",
    "data_all.isna().sum()"
   ]
  },
  {
   "cell_type": "markdown",
   "metadata": {},
   "source": [
    "### Lyrics cleaning"
   ]
  },
  {
   "cell_type": "code",
   "execution_count": 19,
   "metadata": {},
   "outputs": [],
   "source": [
    "from cleantext import clean\n",
    "import re\n",
    "\n",
    "def cleaning(text):\n",
    "    # Remove [Sean Paul: ] parts\n",
    "    text = re.sub(\"\\[[^][]*]\", \"\", text)\n",
    "    text = re.sub(\"\\(.*?\\)\", \"\", text)\n",
    "    \n",
    "    # Remove recover short forms\n",
    "    text = text.lower()\n",
    "    text = re.sub(r\"won\\'t\", \"will not\", text)\n",
    "    text = re.sub(r\"can\\'t\", \"can not\", text)\n",
    "    text = re.sub(r\"n\\'t\", \" not\", text)\n",
    "    text = re.sub(r\"\\'re\", \" are\", text)\n",
    "    text = re.sub(r\"\\'s\", \" is\", text)\n",
    "    text = re.sub(r\"\\'d\", \" would\", text)\n",
    "    text = re.sub(r\"\\'ll\", \" will\", text)\n",
    "    text = re.sub(r\"\\'t\", \" not\", text)\n",
    "    text = re.sub(r\"\\'ve\", \" have\", text)\n",
    "    text = re.sub(r\"\\'m\", \" am\", text)\n",
    "    \n",
    "    # Remove + signs\n",
    "    text = re.sub(\"\\+\", \"\", text)\n",
    "    \n",
    "    # Remove \"\n",
    "    text = re.sub(\"\"\"\\\"\"\"\", \"\", text)\n",
    "    \n",
    "    # Apply cleantext\n",
    "    text = clean(\n",
    "    text,\n",
    "    fix_unicode=True,\n",
    "    to_ascii=True,\n",
    "    lower=True,\n",
    "    normalize_whitespace=True,\n",
    "    no_line_breaks=True,\n",
    "    strip_lines=True,\n",
    "    keep_two_line_breaks=False,\n",
    "    no_urls=True,\n",
    "    no_emails=True,\n",
    "    no_phone_numbers=True,\n",
    "    no_numbers=True,\n",
    "    no_digits=True,\n",
    "    no_currency_symbols=True,\n",
    "    no_punct=True,\n",
    "    no_emoji=True,\n",
    "    replace_with_url='',\n",
    "    replace_with_email='',\n",
    "    replace_with_phone_number='',\n",
    "    replace_with_number='',\n",
    "    replace_with_digit='',\n",
    "    replace_with_currency_symbol='',\n",
    "    replace_with_punct='',\n",
    "    lang='en')\n",
    "    \n",
    "    return text"
   ]
  },
  {
   "cell_type": "code",
   "execution_count": 20,
   "metadata": {},
   "outputs": [
    {
     "name": "stdout",
     "output_type": "stream",
     "text": [
      "Sitting up at night and I'm wondering why. My fairytale can't become a reality. Everything I've seen. Seems so out of reach. Maybe it's just that impossible oh. Where's my knight and shining armor to save me?. Feels like I've been waiting so long. Can you hear me calling out for you baby?. Take my hand make me the one aye. Since forever I have known. That the rockets stand alone. I am ready for that one that I can call my own. When I wait in my sleep. I can only think one thing. Where's my Jay-Z looking for Beyoncé?. Prince Charming looking for a same thing?. Will I ever ever ever find that Keke love love. Will I ever ever ever find that Keke love love. Will I ever ever ever find that Keke love love. Will I ever ever ever find that Keke love love. All I really want is a guy that can hold me down for real. One who cares how I feel. And that knows how to make me smile when I feel down. One who wipes my tears away when they come falling down. Knows just what to say when no one else is around. Where's my knight and shining armor to save me?. Feels like I've been waiting so long. Can you hear me calling out for you baby?. Take my hand make me the one oh. Since forever I have known. That the rockets stand alone. I am ready for that one that I can call my own. When I wait in my sleep. I can only think one thing. Where's my Jay-Z looking for Beyoncé?. Prince Charming looking for a same thing?. Will I ever ever ever find that Keke love love. Will I ever ever ever find that Keke love love. Will I ever ever ever find that Keke love love. Will I ever ever ever find that Keke love love. Bigger they are the harder they fall. Must be too small cause I ain't falling at all. They say love conquers anything. Well won't you come here and conquer me. (Love is blind) I walk around with my eyes closed. (In lovers time) I wait around til the clock strokes. Heard someone say love hurts. Well not having love hurts worse. Cause I want it. I need it. Gotta have it. It's hard to breathe without it. I need it. I want it. Gotta have it. Since forever I have known. That the rockets stand alone. I am ready for that one that I can call my own. When I wait in my sleep. I can only think one thing. Where's my Jay-Z looking for Beyoncé?. Prince Charming looking for a same thing?. Will I ever ever ever find that Keke love love. Will I ever ever ever find that Keke love love. Will I ever ever ever find that Keke love love. Will I ever ever ever find that Keke love love\n",
      "\n",
      "sitting up at night and i am wondering why my fairytale can not become a reality everything i have seen seems so out of reach maybe it is just that impossible oh where is my knight and shining armor to save me feels like i have been waiting so long can you hear me calling out for you baby take my hand make me the one aye since forever i have known that the rockets stand alone i am ready for that one that i can call my own when i wait in my sleep i can only think one thing where is my jayz looking for beyonce prince charming looking for a same thing will i ever ever ever find that keke love love will i ever ever ever find that keke love love will i ever ever ever find that keke love love will i ever ever ever find that keke love love all i really want is a guy that can hold me down for real one who cares how i feel and that knows how to make me smile when i feel down one who wipes my tears away when they come falling down knows just what to say when no one else is around where is my knight and shining armor to save me feels like i have been waiting so long can you hear me calling out for you baby take my hand make me the one oh since forever i have known that the rockets stand alone i am ready for that one that i can call my own when i wait in my sleep i can only think one thing where is my jayz looking for beyonce prince charming looking for a same thing will i ever ever ever find that keke love love will i ever ever ever find that keke love love will i ever ever ever find that keke love love will i ever ever ever find that keke love love bigger they are the harder they fall must be too small cause i ai not falling at all they say love conquers anything well will not you come here and conquer me i walk around with my eyes closed i wait around til the clock strokes heard someone say love hurts well not having love hurts worse cause i want it i need it gotta have it it is hard to breathe without it i need it i want it gotta have it since forever i have known that the rockets stand alone i am ready for that one that i can call my own when i wait in my sleep i can only think one thing where is my jayz looking for beyonce prince charming looking for a same thing will i ever ever ever find that keke love love will i ever ever ever find that keke love love will i ever ever ever find that keke love love will i ever ever ever find that keke love love\n"
     ]
    }
   ],
   "source": [
    "datapoint = data_all.sample(1)[\"lyrics\"].values[0]\n",
    "# datapoint = data_all.iloc[0][\"lyrics\"]\n",
    "print(datapoint)\n",
    "print()\n",
    "print(cleaning(datapoint))"
   ]
  },
  {
   "cell_type": "code",
   "execution_count": 21,
   "metadata": {},
   "outputs": [],
   "source": [
    "data_all.lyrics = data_all.lyrics.apply(cleaning)"
   ]
  },
  {
   "cell_type": "code",
   "execution_count": 22,
   "metadata": {},
   "outputs": [],
   "source": [
    "# Tokenized\n",
    "from nltk import word_tokenize\n",
    "data_all[\"tokenized\"] = data_all.lyrics.apply(word_tokenize)"
   ]
  },
  {
   "cell_type": "code",
   "execution_count": 23,
   "metadata": {},
   "outputs": [],
   "source": [
    "from string import ascii_lowercase"
   ]
  },
  {
   "cell_type": "code",
   "execution_count": 24,
   "metadata": {},
   "outputs": [],
   "source": [
    "# Remove stopwords\n",
    "from nltk.corpus import stopwords\n",
    "stopwords_en = stopwords.words('english')\n",
    "\n",
    "# Mono-letter words\n",
    "stopwords_en += list(ascii_lowercase)\n",
    "\n",
    "data_all[\"tokenized_no_stopwords\"] = data_all[\"tokenized\"].apply(lambda l: [item for item in l if (item not in stopwords_en)])"
   ]
  },
  {
   "cell_type": "code",
   "execution_count": 25,
   "metadata": {},
   "outputs": [
    {
     "data": {
      "text/plain": [
       "0        [got, butter, aiyo, one, thing, sure, keep, ke...\n",
       "1        [aye, sean, paul, long, side, mandem, called, ...\n",
       "2        [beauty, finds, refuge, lovers, wrapped, insid...\n",
       "3        [changed, tune, many, times, since, met, alway...\n",
       "4        [got, rolled, got, drinks, poured, bought, bot...\n",
       "                               ...                        \n",
       "28367    [cause, fuck, leave, scar, tick, tock, clock, ...\n",
       "28368    [minks, things, chain, ring, braclets, yap, fa...\n",
       "28369    [get, ban, get, ban, stick, crack, relax, plan...\n",
       "28370    [check, check, yeah, yeah, hear, thing, call, ...\n",
       "28371    [remix, killer, alive, remix, thriller, trap, ...\n",
       "Name: tokenized_no_stopwords, Length: 76865, dtype: object"
      ]
     },
     "execution_count": 25,
     "metadata": {},
     "output_type": "execute_result"
    }
   ],
   "source": [
    "data_all[\"tokenized_no_stopwords\"]"
   ]
  },
  {
   "cell_type": "code",
   "execution_count": 26,
   "metadata": {},
   "outputs": [],
   "source": [
    "# Lemmatization\n",
    "from nltk.stem.wordnet import WordNetLemmatizer\n",
    "lemmatizer = WordNetLemmatizer()\n",
    "\n",
    "data_all[\"tokenized_no_stopwords_lemmatized\"] = data_all[\"tokenized_no_stopwords\"].apply(\n",
    "    lambda sent: [lemmatizer.lemmatize(word) for word in sent])"
   ]
  },
  {
   "cell_type": "code",
   "execution_count": 27,
   "metadata": {},
   "outputs": [
    {
     "data": {
      "text/plain": [
       "0        [got, butter, aiyo, one, thing, sure, keep, ke...\n",
       "1        [aye, sean, paul, long, side, mandem, called, ...\n",
       "2        [beauty, find, refuge, lover, wrapped, inside,...\n",
       "3        [changed, tune, many, time, since, met, always...\n",
       "4        [got, rolled, got, drink, poured, bought, bott...\n",
       "                               ...                        \n",
       "28367    [cause, fuck, leave, scar, tick, tock, clock, ...\n",
       "28368    [mink, thing, chain, ring, braclets, yap, fame...\n",
       "28369    [get, ban, get, ban, stick, crack, relax, plan...\n",
       "28370    [check, check, yeah, yeah, hear, thing, call, ...\n",
       "28371    [remix, killer, alive, remix, thriller, trap, ...\n",
       "Name: tokenized_no_stopwords_lemmatized, Length: 76865, dtype: object"
      ]
     },
     "execution_count": 27,
     "metadata": {},
     "output_type": "execute_result"
    }
   ],
   "source": [
    "data_all[\"tokenized_no_stopwords_lemmatized\"]"
   ]
  },
  {
   "cell_type": "code",
   "execution_count": 28,
   "metadata": {},
   "outputs": [],
   "source": [
    "# Remove the non-English words\n",
    "from nltk.corpus import words\n",
    "words = set(words.words())\n",
    "\n",
    "data_all[\"tokenized_no_stopwords_lemmatized\"] = data_all[\"tokenized_no_stopwords_lemmatized\"].apply(lambda sent_tok: [item for item in sent_tok if (item in words)])"
   ]
  },
  {
   "cell_type": "code",
   "execution_count": 29,
   "metadata": {},
   "outputs": [],
   "source": [
    "# Compute the number of words\n",
    "data_all[\"number_of_words\"] = data_all[\"tokenized_no_stopwords_lemmatized\"].apply(len)\n",
    "data_all[\"number_of_unique_words\"] = data_all[\"tokenized_no_stopwords_lemmatized\"].apply(lambda l: len(set(l)))"
   ]
  },
  {
   "cell_type": "code",
   "execution_count": 30,
   "metadata": {},
   "outputs": [
    {
     "data": {
      "text/plain": [
       "count    76865.000000\n",
       "mean        54.091043\n",
       "std         39.200401\n",
       "min          0.000000\n",
       "25%         30.000000\n",
       "50%         44.000000\n",
       "75%         64.000000\n",
       "max        599.000000\n",
       "Name: number_of_unique_words, dtype: float64"
      ]
     },
     "execution_count": 30,
     "metadata": {},
     "output_type": "execute_result"
    }
   ],
   "source": [
    "data_all[\"number_of_unique_words\"].describe()"
   ]
  },
  {
   "cell_type": "code",
   "execution_count": 31,
   "metadata": {},
   "outputs": [],
   "source": [
    "data_all[\"lyrics_no_stopwords_lemmatized\"] = data_all[\"tokenized_no_stopwords_lemmatized\"].apply(lambda tok_sent: \" \".join(tok_sent) or np.NaN)"
   ]
  },
  {
   "cell_type": "code",
   "execution_count": 32,
   "metadata": {},
   "outputs": [
    {
     "data": {
      "text/plain": [
       "0        got butter one thing sure keep keep nice crib ...\n",
       "1        aye long side jay fi di gal em tell em drink l...\n",
       "2        beauty find refuge lover wrapped inside lie be...\n",
       "3        tune many time since met always recognize part...\n",
       "4        got rolled got drink bought bottle club came d...\n",
       "                               ...                        \n",
       "28367    cause leave scar tick tock clock come knock do...\n",
       "28368    mink thing chain ring yap fame come fool want ...\n",
       "28369    get ban get ban stick crack relax plan attack ...\n",
       "28370    check check yeah yeah hear thing call switch g...\n",
       "28371    remix killer alive remix thriller trap bitch s...\n",
       "Name: lyrics_no_stopwords_lemmatized, Length: 76865, dtype: object"
      ]
     },
     "execution_count": 32,
     "metadata": {},
     "output_type": "execute_result"
    }
   ],
   "source": [
    "data_all[\"lyrics_no_stopwords_lemmatized\"]"
   ]
  },
  {
   "cell_type": "code",
   "execution_count": 33,
   "metadata": {},
   "outputs": [
    {
     "data": {
      "text/plain": [
       "lyrics                                   0\n",
       "genre                                    0\n",
       "year                                 48493\n",
       "violence                             48493\n",
       "shake the audience                   48493\n",
       "sadness                              48493\n",
       "feelings                             48493\n",
       "danceability                         48493\n",
       "tokenized                                0\n",
       "tokenized_no_stopwords                   0\n",
       "tokenized_no_stopwords_lemmatized        0\n",
       "number_of_words                          0\n",
       "number_of_unique_words                   0\n",
       "lyrics_no_stopwords_lemmatized          41\n",
       "dtype: int64"
      ]
     },
     "execution_count": 33,
     "metadata": {},
     "output_type": "execute_result"
    }
   ],
   "source": [
    "# Check for additional NAs\n",
    "data_all.isna().sum()"
   ]
  },
  {
   "cell_type": "code",
   "execution_count": 34,
   "metadata": {},
   "outputs": [],
   "source": [
    "data_all.dropna(subset=[\"lyrics_no_stopwords_lemmatized\"], inplace=True)"
   ]
  },
  {
   "cell_type": "markdown",
   "metadata": {},
   "source": [
    "### Removed unuseful fields"
   ]
  },
  {
   "cell_type": "code",
   "execution_count": 35,
   "metadata": {},
   "outputs": [
    {
     "data": {
      "text/plain": [
       "Index(['lyrics', 'genre', 'year', 'violence', 'shake the audience', 'sadness',\n",
       "       'feelings', 'danceability', 'tokenized', 'tokenized_no_stopwords',\n",
       "       'tokenized_no_stopwords_lemmatized', 'number_of_words',\n",
       "       'number_of_unique_words', 'lyrics_no_stopwords_lemmatized'],\n",
       "      dtype='object')"
      ]
     },
     "execution_count": 35,
     "metadata": {},
     "output_type": "execute_result"
    }
   ],
   "source": [
    "data_all.columns"
   ]
  },
  {
   "cell_type": "code",
   "execution_count": 36,
   "metadata": {
    "tags": []
   },
   "outputs": [],
   "source": [
    "data_all.drop(columns=[\"tokenized\", \"tokenized_no_stopwords\", \"tokenized_no_stopwords_lemmatized\"], inplace=True)"
   ]
  },
  {
   "cell_type": "code",
   "execution_count": 37,
   "metadata": {},
   "outputs": [
    {
     "name": "stdout",
     "output_type": "stream",
     "text": [
      "Removed,  18886  entries\n"
     ]
    }
   ],
   "source": [
    "# Unique words threshold\n",
    "unique_words_threshold = 30\n",
    "print(\"Removed, \", (data_all.number_of_unique_words < unique_words_threshold).sum(), \" entries\")\n",
    "data_all = data_all[data_all.number_of_unique_words > unique_words_threshold]"
   ]
  },
  {
   "cell_type": "code",
   "execution_count": 38,
   "metadata": {},
   "outputs": [
    {
     "data": {
      "text/plain": [
       "lyrics                                0\n",
       "genre                                 0\n",
       "year                              41769\n",
       "violence                          41769\n",
       "shake the audience                41769\n",
       "sadness                           41769\n",
       "feelings                          41769\n",
       "danceability                      41769\n",
       "number_of_words                       0\n",
       "number_of_unique_words                0\n",
       "lyrics_no_stopwords_lemmatized        0\n",
       "dtype: int64"
      ]
     },
     "execution_count": 38,
     "metadata": {},
     "output_type": "execute_result"
    }
   ],
   "source": [
    "# Check for additional NAs\n",
    "data_all.isna().sum()"
   ]
  },
  {
   "cell_type": "markdown",
   "metadata": {},
   "source": [
    "### Visualization"
   ]
  },
  {
   "cell_type": "code",
   "execution_count": 39,
   "metadata": {},
   "outputs": [],
   "source": [
    "# from pandasgui import show"
   ]
  },
  {
   "cell_type": "code",
   "execution_count": 40,
   "metadata": {
    "tags": []
   },
   "outputs": [],
   "source": [
    "# show(data_history)"
   ]
  },
  {
   "cell_type": "code",
   "execution_count": 41,
   "metadata": {},
   "outputs": [
    {
     "name": "stderr",
     "output_type": "stream",
     "text": [
      "UserWarning: sort_values defaulting to pandas implementation.\n",
      "Please refer to https://modin.readthedocs.io/en/stable/supported_apis/defaulting_to_pandas.html for explanation.\n"
     ]
    },
    {
     "data": {
      "image/png": "[encoded data removed]",
      "text/plain": [
       "<Figure size 864x432 with 1 Axes>"
      ]
     },
     "metadata": {},
     "output_type": "display_data"
    }
   ],
   "source": [
    "# Missing data\n",
    "import matplotlib.pyplot as plt\n",
    "\n",
    "fig, ax = plt.subplots(figsize=(12, 6))\n",
    "fig.set_facecolor(\"white\")\n",
    "\n",
    "\n",
    "year_nans = data_all.year.isna().value_counts()\n",
    "\n",
    "ax.pie(year_nans.values, labels=[\"NaN\", \"Not NaN\"], autopct='%.0f%%')\n",
    "fig.suptitle(\"Consisteny of the $year$ variable\")\n",
    "fig.savefig(\"year_nans.png\")"
   ]
  },
  {
   "cell_type": "code",
   "execution_count": 42,
   "metadata": {},
   "outputs": [
    {
     "data": {
      "text/plain": [
       "lyrics                            56525\n",
       "genre                             56525\n",
       "year                              14756\n",
       "violence                          14756\n",
       "shake the audience                14756\n",
       "sadness                           14756\n",
       "feelings                          14756\n",
       "danceability                      14756\n",
       "number_of_words                   56525\n",
       "number_of_unique_words            56525\n",
       "lyrics_no_stopwords_lemmatized    56525\n",
       "dtype: int64"
      ]
     },
     "execution_count": 42,
     "metadata": {},
     "output_type": "execute_result"
    }
   ],
   "source": [
    "data_all.notna().sum()"
   ]
  },
  {
   "cell_type": "code",
   "execution_count": 43,
   "metadata": {},
   "outputs": [
    {
     "data": {
      "image/png": "[encoded data removed]",
      "text/plain": [
       "<Figure size 864x432 with 1 Axes>"
      ]
     },
     "metadata": {
      "needs_background": "light"
     },
     "output_type": "display_data"
    }
   ],
   "source": [
    "import matplotlib.pyplot as plt\n",
    "\n",
    "fig, ax = plt.subplots(figsize=(12, 6))\n",
    "\n",
    "data_all.notna().sum().plot(kind='bar', ax=ax)\n",
    "ax.hlines(y=56525, xmin=-1, xmax=1.25, color='black', linestyle='--')\n",
    "ax.hlines(y=14756, xmin=-1, xmax=2.25, color='black', linestyle='--')\n",
    "\n",
    "ax.set_ylabel(\"Non-null values\")\n",
    "\n",
    "fig.savefig(\"all_data_nans.png\")"
   ]
  },
  {
   "cell_type": "code",
   "execution_count": 44,
   "metadata": {},
   "outputs": [
    {
     "data": {
      "image/png": "[encoded data removed]",
      "text/plain": [
       "<Figure size 864x432 with 1 Axes>"
      ]
     },
     "metadata": {
      "needs_background": "light"
     },
     "output_type": "display_data"
    }
   ],
   "source": [
    "# Distribution of genres\n",
    "fig, ax = plt.subplots(figsize=(12, 6))\n",
    "data_all.groupby(\"genre\").agg(\"count\")[\"lyrics\"].plot(kind='bar', ax=ax)\n",
    "\n",
    "fig.tight_layout()\n",
    "fig.savefig(\"genre_distribution.png\")"
   ]
  },
  {
   "cell_type": "code",
   "execution_count": null,
   "metadata": {},
   "outputs": [],
   "source": []
  },
  {
   "cell_type": "markdown",
   "metadata": {},
   "source": [
    "### Save"
   ]
  },
  {
   "cell_type": "code",
   "execution_count": 46,
   "metadata": {},
   "outputs": [],
   "source": [
    "data_all.to_csv(\"lyrics-dataset-v5.csv\", index=False)"
   ]
  },
  {
   "cell_type": "markdown",
   "metadata": {},
   "source": [
    "### Pre-processing of playlists dataset"
   ]
  },
  {
   "cell_type": "code",
   "execution_count": 23,
   "metadata": {},
   "outputs": [],
   "source": [
    "import modin.pandas as pd\n",
    "\n",
    "playlists = pd.read_csv(\"playlist-0.csv\")\n",
    "playlists = playlists[[\"name\", 'lyrics']]"
   ]
  },
  {
   "cell_type": "code",
   "execution_count": 25,
   "metadata": {},
   "outputs": [],
   "source": [
    "from cleantext import clean\n",
    "import re\n",
    "\n",
    "def playlists_cleaning(text):\n",
    "    # Remove [Sean Paul: ] parts\n",
    "    text = re.sub(\"\\[[^][]*]\", \"\", text)\n",
    "    text = re.sub(\"\\(.*?\\)\", \"\", text)\n",
    "    \n",
    "    # Remove + signs\n",
    "    text = re.sub(\"\\+\", \"\", text)\n",
    "    \n",
    "    # Remove \"\n",
    "    text = re.sub(\"\"\"\\\"\"\"\", \"\", text)\n",
    "    \n",
    "    # Apply cleantext\n",
    "    text = clean(\n",
    "    text,\n",
    "    fix_unicode=True,\n",
    "    to_ascii=True,\n",
    "    lower=True,\n",
    "    normalize_whitespace=True,\n",
    "    no_line_breaks=True,\n",
    "    strip_lines=True,\n",
    "    keep_two_line_breaks=False,\n",
    "    no_urls=True,\n",
    "    no_emails=True,\n",
    "    no_phone_numbers=True,\n",
    "    no_numbers=True,\n",
    "    no_digits=True,\n",
    "    no_currency_symbols=True,\n",
    "    no_punct=False,\n",
    "    no_emoji=True,\n",
    "    replace_with_url='',\n",
    "    replace_with_email='',\n",
    "    replace_with_phone_number='',\n",
    "    replace_with_number='',\n",
    "    replace_with_digit='',\n",
    "    replace_with_currency_symbol='',\n",
    "    replace_with_punct=' ',\n",
    "    lang='en')\n",
    "    \n",
    "    # Remove the song name + lyrics \n",
    "    text = re.sub(\"^.*?(?:lyrics )\", \"\", text)\n",
    "    \n",
    "    return text\n",
    "\n",
    "playlists[\"lyrics\"] = playlists[\"lyrics\"].apply(playlists_cleaning)"
   ]
  },
  {
   "cell_type": "code",
   "execution_count": 27,
   "metadata": {},
   "outputs": [],
   "source": [
    "playlists.to_csv(\"playlists-processed.csv\", index=False)"
   ]
  }
 ],
 "metadata": {
  "kernelspec": {
   "display_name": "Python 3 (ipykernel)",
   "language": "python",
   "name": "python3"
  },
  "language_info": {
   "codemirror_mode": {
    "name": "ipython",
    "version": 3
   },
   "file_extension": ".py",
   "mimetype": "text/x-python",
   "name": "python",
   "nbconvert_exporter": "python",
   "pygments_lexer": "ipython3",
   "version": "3.9.12"
  }
 },
 "nbformat": 4,
 "nbformat_minor": 4
}
